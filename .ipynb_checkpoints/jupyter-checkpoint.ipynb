{
 "cells": [
  {
   "cell_type": "code",
   "execution_count": 68,
   "id": "7d2c557c",
   "metadata": {},
   "outputs": [
    {
     "name": "stdout",
     "output_type": "stream",
     "text": [
      "5\n",
      "<class 'int'>\n"
     ]
    }
   ],
   "source": [
    "print(5)\n",
    "print(type(5))"
   ]
  },
  {
   "cell_type": "code",
   "execution_count": 9,
   "id": "b0e89afc",
   "metadata": {},
   "outputs": [
    {
     "name": "stdout",
     "output_type": "stream",
     "text": [
      "4.2\n",
      "<class 'float'>\n",
      "4.0\n",
      "0.2\n",
      "4000000.0\n",
      "0.00042\n"
     ]
    }
   ],
   "source": [
    "print(4.2)\n",
    "print(type(4.2))\n",
    "print(4.)\n",
    "print(.2)\n",
    "print(.4e7)\n",
    "print(4.2e-4)"
   ]
  },
  {
   "cell_type": "code",
   "execution_count": 14,
   "id": "d4bd8295",
   "metadata": {},
   "outputs": [
    {
     "name": "stdout",
     "output_type": "stream",
     "text": [
      "Hactiv8\n",
      "<class 'str'>\n",
      "This string contains (').\n",
      "This string contains (\").\n"
     ]
    }
   ],
   "source": [
    "print(\"Hactiv8\")\n",
    "print(type(\"Hactiv8\"))\n",
    "\n",
    "print(\"This string contains (').\")\n",
    "print('This string contains (\").')"
   ]
  },
  {
   "cell_type": "code",
   "execution_count": 4,
   "id": "8e6ab746",
   "metadata": {},
   "outputs": [
    {
     "name": "stdout",
     "output_type": "stream",
     "text": [
      "<class 'bool'>\n",
      "<class 'bool'>\n"
     ]
    }
   ],
   "source": [
    "print(type(True))\n",
    "print(type(False))"
   ]
  },
  {
   "cell_type": "code",
   "execution_count": 15,
   "id": "93a3393f",
   "metadata": {
    "scrolled": true
   },
   "outputs": [
    {
     "name": "stdout",
     "output_type": "stream",
     "text": [
      "300\n",
      "1000\n",
      "300 300 300\n"
     ]
    }
   ],
   "source": [
    "n = 300\n",
    "print(n)\n",
    "n = 1000\n",
    "print(n)\n",
    "\n",
    "a=b=c= 300\n",
    "print(a,b,c)"
   ]
  },
  {
   "cell_type": "code",
   "execution_count": 7,
   "id": "cd43df1e",
   "metadata": {
    "scrolled": true
   },
   "outputs": [
    {
     "name": "stdout",
     "output_type": "stream",
     "text": [
      "23.5\n",
      "Now I'm a String\n"
     ]
    }
   ],
   "source": [
    "var = 23.5\n",
    "print(var)\n",
    "\n",
    "var = \"Now I'm a String\"\n",
    "print(var)"
   ]
  },
  {
   "cell_type": "code",
   "execution_count": 8,
   "id": "21fd0096",
   "metadata": {},
   "outputs": [
    {
     "name": "stdout",
     "output_type": "stream",
     "text": [
      "Hactiv8 54 True\n"
     ]
    }
   ],
   "source": [
    "name = \"Hactiv8\"\n",
    "age = 54\n",
    "has_laptop = True\n",
    "print(name, age, has_laptop)"
   ]
  },
  {
   "cell_type": "code",
   "execution_count": 1,
   "id": "9bb3743e",
   "metadata": {},
   "outputs": [
    {
     "name": "stdout",
     "output_type": "stream",
     "text": [
      "1 2 3 4 5 7 8\n"
     ]
    }
   ],
   "source": [
    "age = 1\n",
    "Age = 2\n",
    "aGe = 3\n",
    "AGE = 4\n",
    "a_g_e =5\n",
    "_age = 6\n",
    "age_ = 7\n",
    "_AGE_ = 8\n",
    "\n",
    "print(age, Age, aGe, AGE, a_g_e, age_, _AGE_)"
   ]
  },
  {
   "cell_type": "code",
   "execution_count": 18,
   "id": "156b5258",
   "metadata": {},
   "outputs": [
    {
     "name": "stdout",
     "output_type": "stream",
     "text": [
      "2\n",
      "betul\n"
     ]
    }
   ],
   "source": [
    "a = 2\n",
    "b = 3\n",
    "c = 1\n",
    "\n",
    "if a>c:\n",
    "    print(a)\n",
    "if a<b:\n",
    "    print('betul')"
   ]
  },
  {
   "cell_type": "code",
   "execution_count": 16,
   "id": "4822ee4e",
   "metadata": {},
   "outputs": [
    {
     "name": "stdout",
     "output_type": "stream",
     "text": [
      "enggak\n"
     ]
    }
   ],
   "source": [
    "if a>b and a>c:\n",
    "    print('tampil')\n",
    "else:\n",
    "    print('enggak')"
   ]
  },
  {
   "cell_type": "code",
   "execution_count": 19,
   "id": "f0c3dcff",
   "metadata": {},
   "outputs": [
    {
     "name": "stdout",
     "output_type": "stream",
     "text": [
      "tampil\n"
     ]
    }
   ],
   "source": [
    "if a>b or a>c:\n",
    "    print('tampil')\n",
    "else:\n",
    "    print('enggak')"
   ]
  },
  {
   "cell_type": "code",
   "execution_count": 36,
   "id": "c4730ded",
   "metadata": {},
   "outputs": [
    {
     "name": "stdout",
     "output_type": "stream",
     "text": [
      "saya\n",
      "tidak\n",
      "pergi\n",
      "karena banjir\n"
     ]
    }
   ],
   "source": [
    "sistem = [\"saya\",\"pergi\",\"ke\",\"LPPI\",\"kemang\"]\n",
    "engineer = [\"tidak\",\"jalan\",\"karena\",\"banjir\"]\n",
    "\n",
    "print(sistem[0])\n",
    "print(engineer[0])\n",
    "print(sistem[1])\n",
    "print(engineer[2],engineer[3])\n"
   ]
  },
  {
   "cell_type": "code",
   "execution_count": 35,
   "id": "5dae458f",
   "metadata": {},
   "outputs": [
    {
     "name": "stdout",
     "output_type": "stream",
     "text": [
      "saya\n",
      "tetap\n",
      "pergi\n",
      "karena banjir\n"
     ]
    }
   ],
   "source": [
    "engineer[0]=\"tetap\"\n",
    "print(sistem[0])\n",
    "print(engineer[0])\n",
    "print(sistem[1])\n",
    "print(engineer[2],engineer[3])\n"
   ]
  },
  {
   "cell_type": "code",
   "execution_count": 47,
   "id": "52bbeb2d",
   "metadata": {},
   "outputs": [
    {
     "name": "stdout",
     "output_type": "stream",
     "text": [
      "False\n"
     ]
    }
   ],
   "source": [
    "a = 6\n",
    "b = 7\n",
    "c = 8\n",
    "\n",
    "if c>a:\n",
    "    if b>c:\n",
    "        print('True')\n",
    "    else:\n",
    "        print('False')"
   ]
  },
  {
   "cell_type": "code",
   "execution_count": 3,
   "id": "83499008",
   "metadata": {},
   "outputs": [
    {
     "name": "stdout",
     "output_type": "stream",
     "text": [
      "nama1, nilaiA= 80, nilaiA= 70, total= 150, status: lulus\n",
      "nama2, nilaiA= 55, nilaiA= 70, total= 125, status: tidak lulus\n",
      "nama3, nilaiA= 80, nilaiA= 90, total= 170, status: lulus\n",
      "nama4, nilaiA= 75, nilaiA= 60, total= 135, status: tidak lulus\n",
      "nama5, nilaiA= 90, nilaiA= 70, total= 160, status: lulus\n"
     ]
    }
   ],
   "source": [
    "nama = ['nama1','nama2','nama3','nama4','nama5']\n",
    "nilaiA = [80,55,80,75,90]\n",
    "nilaiB = [70,70,90,60,70]\n",
    "\n",
    "for i in range(len(nama)):\n",
    "    if (nilaiA[i]<=60) or nilaiB[i]<=60:\n",
    "        print(f\"{nama[i]}, nilaiA= {nilaiA[i]}, nilaiA= {nilaiB[i]}, total= {nilaiA[i]+nilaiB[i]}, status: tidak lulus\")\n",
    "    else:\n",
    "        print(f\"{nama[i]}, nilaiA= {nilaiA[i]}, nilaiA= {nilaiB[i]}, total= {nilaiA[i]+nilaiB[i]}, status: lulus\")"
   ]
  },
  {
   "cell_type": "code",
   "execution_count": 4,
   "id": "5d5172f8",
   "metadata": {
    "scrolled": true
   },
   "outputs": [
    {
     "name": "stdout",
     "output_type": "stream",
     "text": [
      "Enter Username: asep\n",
      "Username is: asep\n"
     ]
    }
   ],
   "source": [
    "username = input('Enter Username: ')\n",
    "\n",
    "print('Username is:', username)"
   ]
  },
  {
   "cell_type": "code",
   "execution_count": 5,
   "id": "dcc6e99e",
   "metadata": {},
   "outputs": [
    {
     "name": "stdout",
     "output_type": "stream",
     "text": [
      "nama: asep\n",
      "hobi: berenang\n",
      "email: asep@gmail.com\n",
      "telp: 09892748274\n",
      "nilai UAS: 90\n",
      "statuslulus\n",
      "\n",
      "\n",
      "nama: asep \n",
      "hobi: berenang \n",
      "email: asep@gmail.com \n",
      "telp: 09892748274 \n",
      "UAS: 90 \n",
      "status: lulus\n"
     ]
    }
   ],
   "source": [
    "nama = input('nama: ')\n",
    "hobi = input('hobi: ')\n",
    "email = input('email: ')\n",
    "tlp = input('telp: ')\n",
    "uas = input('nilai UAS: ')\n",
    "status = input('status')\n",
    "\n",
    "print(f\"\\n\\nnama: {nama} \\nhobi: {hobi} \\nemail: {email} \\ntelp: {tlp} \\nUAS: {uas} \\nstatus: {status}\")"
   ]
  },
  {
   "cell_type": "code",
   "execution_count": 6,
   "id": "a4aaa870",
   "metadata": {},
   "outputs": [
    {
     "name": "stdout",
     "output_type": "stream",
     "text": [
      "nama: asep\n",
      "nilai UTS: 90\n",
      "nilai UAS: 55\n",
      "\n",
      "\n",
      "nama\t: asep \n",
      "uts\t: 90 \n",
      "uas\t: 55 \n",
      "total\t: 145\n",
      "Maaf anda Gagal\n"
     ]
    }
   ],
   "source": [
    "nama = input('nama: ')\n",
    "uts = int(input('nilai UTS: '))\n",
    "uas = int(input('nilai UAS: '))\n",
    "\n",
    "print(f\"\\n\\nnama\\t: {nama} \\nuts\\t: {uts} \\nuas\\t: {uas} \\ntotal\\t: {uts+uas}\")\n",
    "\n",
    "if uts <= 60 or uas <= 60 or (uts+uas)<=125:\n",
    "    print('Maaf anda Gagal')\n",
    "else :\n",
    "    print('Selamat anda Lulus')\n"
   ]
  },
  {
   "cell_type": "code",
   "execution_count": 72,
   "id": "763ea438",
   "metadata": {},
   "outputs": [
    {
     "name": "stdout",
     "output_type": "stream",
     "text": [
      "masukkan kata: BaT\n",
      "kata\t=  BaT\n",
      "\n",
      "huruf\t=  B\n",
      "desimal\t=  66\n",
      "biner\t=  1000010\n",
      "oktal\t=  102\n",
      "hexa\t=  42\n",
      "\n",
      "huruf\t=  a\n",
      "desimal\t=  97\n",
      "biner\t=  1100001\n",
      "oktal\t=  141\n",
      "hexa\t=  61\n",
      "\n",
      "huruf\t=  T\n",
      "desimal\t=  84\n",
      "biner\t=  1010100\n",
      "oktal\t=  124\n",
      "hexa\t=  54\n"
     ]
    }
   ],
   "source": [
    "kata = input('masukkan kata: ')\n",
    "#kata = 'BaT'\n",
    "#huruf = [str(huruf) for huruf in kata]\n",
    "\n",
    "print('kata\\t= ', kata)\n",
    "#print('huruf= ', huruf)\n",
    "\n",
    "\n",
    "for i in range(len(kata)):\n",
    "    print('\\nhuruf\\t= ', kata[i])\n",
    "    desimal1 = ord(kata[i])\n",
    "    print('desimal\\t= ', desimal1)\n",
    "    \n",
    "    biner = ''\n",
    "    oktal = ''\n",
    "    hexa = ''\n",
    "\n",
    "    #biner\n",
    "    desimal=desimal1\n",
    "    while desimal > 0:\n",
    "        sisa = desimal % 2\n",
    "        biner = str(sisa) + biner\n",
    "        desimal //= 2\n",
    "    print('biner\\t= ', biner)\n",
    "\n",
    "    #oktal\n",
    "    desimal=desimal1\n",
    "    while desimal > 0:\n",
    "        sisa = desimal % 8\n",
    "        oktal = str(sisa) + oktal\n",
    "        desimal //= 8\n",
    "    print('oktal\\t= ', oktal)\n",
    "\n",
    "    #hexa\n",
    "    desimal=desimal1\n",
    "    hex_chars = \"0123456789ABCDEF\"\n",
    "    while desimal > 0:\n",
    "         sisa = desimal % 16\n",
    "         hexa = hex_chars[sisa] + hexa\n",
    "         desimal //= 16\n",
    "    print('hexa\\t= ', hexa)\n",
    "\n"
   ]
  },
  {
   "cell_type": "code",
   "execution_count": 3,
   "id": "743e03aa",
   "metadata": {},
   "outputs": [
    {
     "name": "stdout",
     "output_type": "stream",
     "text": [
      "12\n",
      "13\n",
      "14\n",
      "15\n",
      "selesai 19\n"
     ]
    }
   ],
   "source": [
    "s = 12\n",
    "\n",
    "while s<=19:\n",
    "    if s<=15:\n",
    "        print(s)\n",
    "    elif s>18:\n",
    "        print('selesai',s)\n",
    "    s=s+1\n",
    "    \n",
    "\n",
    "\n",
    "    "
   ]
  },
  {
   "cell_type": "code",
   "execution_count": null,
   "id": "3af4c9f1",
   "metadata": {},
   "outputs": [],
   "source": []
  }
 ],
 "metadata": {
  "kernelspec": {
   "display_name": "Python 3 (ipykernel)",
   "language": "python",
   "name": "python3"
  },
  "language_info": {
   "codemirror_mode": {
    "name": "ipython",
    "version": 3
   },
   "file_extension": ".py",
   "mimetype": "text/x-python",
   "name": "python",
   "nbconvert_exporter": "python",
   "pygments_lexer": "ipython3",
   "version": "3.11.5"
  }
 },
 "nbformat": 4,
 "nbformat_minor": 5
}
